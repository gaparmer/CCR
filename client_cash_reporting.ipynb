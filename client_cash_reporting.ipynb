# import pandas to read and manipulate data
import pandas as pd
# create dataframe from Orion Query "Holdings Report" or Query 2317
df = pd.read_excel('Holdings Report_EC (1).xlsx')

# create 
df['strike_price'] = pd.to_numeric(df[df['assetClass']== ('Put')]['ProductName'].str.split("@",expand=True)[1])
df['cash_and_equivalents'] = df[df['assetCategory']=='Money Market']['Value']
df['notional_value'] = df['strike_price']*df['shares']

cash_and_notional = pd.DataFrame(df[['Value','notional_value','clientName','cash_and_equivalents']].groupby('clientName').sum())

cash_and_notional['net_cash'] = cash_and_notional['notional_value'] + cash_and_notional['cash_and_equivalents']

cash_and_notional['net_cash_perc'] = (cash_and_notional['net_cash'] / cash_and_notional['Value'])*100

cash_and_notional[['Value','notional_value','cash_and_equivalents','net_cash']] = cash_and_notional[['Value','notional_value','cash_and_equivalents','net_cash']].applymap("${0:,.2f}".format)
df['notional_value'] = df['strike_price']*df['shares']

cash_and_notional = pd.DataFrame(df[['Value','notional_value','clientName','cash_and_equivalents']].groupby('clientName').sum())

cash_and_notional['net_cash'] = cash_and_notional['notional_value'] + cash_and_notional['cash_and_equivalents']

cash_and_notional['net_cash_perc'] = (cash_and_notional['net_cash'] / cash_and_notional['Value'])*100

cash_and_notional[['Value','notional_value','cash_and_equivalents','net_cash']] = cash_and_notional[['Value','notional_value','cash_and_equivalents','net_cash']].applymap("${0:,.2f}".format)
cash_and_notional[['net_cash_perc']] = cash_and_notional[['net_cash_perc']].applymap("{0:.2f}%".format)
cash_and_notional
